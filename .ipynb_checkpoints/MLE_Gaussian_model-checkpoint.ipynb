{
 "cells": [
  {
   "cell_type": "code",
   "execution_count": 1,
   "id": "90f6d69a-420e-4740-adb2-cf64d6675c7f",
   "metadata": {},
   "outputs": [],
   "source": [
    "import pandas \n",
    "import numpy as np \n",
    "from sklearn.datasets import make_sparse_spd_matrix\n",
    "from sklearn.covariance import empirical_covariance, graphical_lasso"
   ]
  },
  {
   "cell_type": "markdown",
   "id": "2e819190-7a2a-48b4-bd4b-1cf4a3b2d230",
   "metadata": {},
   "source": [
    "We first import data  "
   ]
  },
  {
   "cell_type": "code",
   "execution_count": 3,
   "id": "6473e44c-f702-49fa-9047-0be0ca46677f",
   "metadata": {},
   "outputs": [
    {
     "name": "stdout",
     "output_type": "stream",
     "text": [
      "    mechanics  vectors  algebra  analysis  statistics\n",
      "0          77       82       67        67          81\n",
      "1          63       78       80        70          81\n",
      "2          75       73       71        66          81\n",
      "3          55       72       63        70          68\n",
      "4          63       63       65        70          63\n",
      "..        ...      ...      ...       ...         ...\n",
      "83         15       38       39        28          17\n",
      "84          5       30       44        36          18\n",
      "85         12       30       32        35          21\n",
      "86          5       26       15        20          20\n",
      "87          0       40       21         9          14\n",
      "\n",
      "[88 rows x 5 columns]\n"
     ]
    }
   ],
   "source": [
    "df = pandas.read_csv('C:/Users/20254817/Desktop/Githib/Dependence-modeling-/data/mathmarks.csv')\n",
    "print(df)"
   ]
  },
  {
   "cell_type": "markdown",
   "id": "a529de27-24d5-41d9-b149-7745757217a0",
   "metadata": {},
   "source": [
    "We transform df to numpy for easy manipulations and then compute the covariance matrix "
   ]
  },
  {
   "cell_type": "code",
   "execution_count": null,
   "id": "e5475d45-9b5e-4363-8ef0-fc35847c9706",
   "metadata": {},
   "outputs": [],
   "source": []
  }
 ],
 "metadata": {
  "kernelspec": {
   "display_name": "Python 3 (Spyder)",
   "language": "python3",
   "name": "python3"
  },
  "language_info": {
   "codemirror_mode": {
    "name": "ipython",
    "version": 3
   },
   "file_extension": ".py",
   "mimetype": "text/x-python",
   "name": "python",
   "nbconvert_exporter": "python",
   "pygments_lexer": "ipython3",
   "version": "3.13.5"
  }
 },
 "nbformat": 4,
 "nbformat_minor": 5
}
