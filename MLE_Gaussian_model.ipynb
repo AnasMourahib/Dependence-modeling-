{
 "cells": [
  {
   "cell_type": "code",
   "execution_count": 2,
   "id": "90f6d69a-420e-4740-adb2-cf64d6675c7f",
   "metadata": {},
   "outputs": [],
   "source": [
    "import pandas as pd\n",
    "import numpy as np "
   ]
  },
  {
   "cell_type": "markdown",
   "id": "ac8593d4-88f4-4829-a019-799d77e3e651",
   "metadata": {},
   "source": [
    "Consider the square cyclic graph 1--2--3--4--1. A precision matrix that satisfies this structure is given by"
   ]
  },
  {
   "cell_type": "markdown",
   "id": "2e819190-7a2a-48b4-bd4b-1cf4a3b2d230",
   "metadata": {},
   "source": [
    "We first import data  "
   ]
  },
  {
   "cell_type": "code",
   "execution_count": 29,
   "id": "6473e44c-f702-49fa-9047-0be0ca46677f",
   "metadata": {},
   "outputs": [
    {
     "name": "stdout",
     "output_type": "stream",
     "text": [
      "This is the true precision matrix  \n",
      " [[10.   0.5  0.   0.5]\n",
      " [ 0.5 10.   0.5  0. ]\n",
      " [ 0.   0.5 10.   0.5]\n",
      " [ 0.5  0.   0.5 10. ]]\n"
     ]
    }
   ],
   "source": [
    "d = 4\n",
    "Theta = np.matrix([\n",
    "[10 , 0.5  , 0 , 0.5],\n",
    "[0.5 , 10 , 0.5 , 0 ],\n",
    "[0 , 0.5 , 10 , 0.5],\n",
    "[0.5 , 0 , 0.5 , 10]\n",
    "])\n",
    "\n",
    "print(\"This is the true precision matrix  \\n\", Theta)"
   ]
  },
  {
   "cell_type": "markdown",
   "id": "a529de27-24d5-41d9-b149-7745757217a0",
   "metadata": {},
   "source": [
    "We transform df to numpy for easy manipulations and then compute the covariance matrix "
   ]
  },
  {
   "cell_type": "markdown",
   "id": "46ceff84-2970-445b-acc6-234625a2951f",
   "metadata": {},
   "source": [
    "We transform df to numpy for easy manipulations and then compute the covariance matrix "
   ]
  },
  {
   "cell_type": "code",
   "execution_count": 30,
   "id": "d96d1887-0b23-4ec4-90f7-8eccb7da4344",
   "metadata": {},
   "outputs": [
    {
     "name": "stdout",
     "output_type": "stream",
     "text": [
      "This is the true covariance matrix  \n",
      " [[10.   0.5  0.   0.5]\n",
      " [ 0.5 10.   0.5  0. ]\n",
      " [ 0.   0.5 10.   0.5]\n",
      " [ 0.5  0.   0.5 10. ]]\n"
     ]
    }
   ],
   "source": [
    "Sigma = np.linalg.inv(Theta) \n",
    "print(\"This is the true covariance matrix  \\n\", Sigma)"
   ]
  },
  {
   "cell_type": "markdown",
   "id": "8e970608-f2d9-4bcc-b9a3-0ffcc3a0a14b",
   "metadata": {},
   "source": [
    "We generate a sample pf size $N = 1000$ from a centered Guassian distribution with covariance matrix $\\Sigma$ "
   ]
  },
  {
   "cell_type": "markdown",
   "id": "504fbcea-5523-4898-8059-5e10c2a28657",
   "metadata": {},
   "source": [
    "We first generate a sample of size $N=1000$ from a centered multivariate Guassian distribution with covariance matrix $\\Sigma$"
   ]
  },
  {
   "cell_type": "code",
   "execution_count": 38,
   "id": "282b1a57-661e-4bd0-870c-927c22c8d12e",
   "metadata": {},
   "outputs": [
    {
     "name": "stdout",
     "output_type": "stream",
     "text": [
      "[[-0.04231963  0.32991875 -0.07002136  0.28658341]\n",
      " [ 0.02595677  0.07487018 -0.04334342 -0.40979325]\n",
      " [-0.01492751  0.12558061  0.07797677 -0.12637802]\n",
      " ...\n",
      " [ 0.29997606  0.07924742 -0.13101757 -0.44451623]\n",
      " [ 0.60564868  0.1975385   0.0474323   0.01575487]\n",
      " [-0.06474599 -0.28034207  0.07689355 -0.34779462]]\n"
     ]
    },
    {
     "data": {
      "text/plain": [
       "(10000, 4)"
      ]
     },
     "execution_count": 38,
     "metadata": {},
     "output_type": "execute_result"
    }
   ],
   "source": [
    "N = 10000\n",
    "d = 4\n",
    "mean = np.zeros(4)\n",
    "X = np.random.multivariate_normal(mean ,Sigma , N)\n",
    "print(X)\n",
    "X.shape"
   ]
  },
  {
   "cell_type": "markdown",
   "id": "f7e76916-63be-4e7e-b5eb-6adccc9c50ba",
   "metadata": {},
   "source": [
    "Estimation by the inverse of the sample covariance matrix"
   ]
  },
  {
   "cell_type": "code",
   "execution_count": 36,
   "id": "ef7381bc-d2f2-47f6-abba-c9ec0d61f6a3",
   "metadata": {},
   "outputs": [
    {
     "name": "stdout",
     "output_type": "stream",
     "text": [
      "This is the sample covariance matrix is  \n",
      " [[ 0.09941725 -0.00470907  0.00085346 -0.00690352]\n",
      " [-0.00470907  0.09856747 -0.0069519   0.00084826]\n",
      " [ 0.00085346 -0.0069519   0.10262244 -0.00479107]\n",
      " [-0.00690352  0.00084826 -0.00479107  0.10122533]]\n",
      "This is the estimated precision matrix is  \n",
      " [[10.12898866  0.47660502 -0.01993087  0.6858553 ]\n",
      " [ 0.47660502 10.21674883  0.68718311 -0.02058601]\n",
      " [-0.01993087  0.68718311  9.81252525  0.45731635]\n",
      " [ 0.6858553  -0.02058601  0.45731635  9.94754305]]\n"
     ]
    }
   ],
   "source": [
    "####To calculate the covariance matrix using np.cov, we need to reshape X into a matrix where each row represnets a variable and each column a single observation\n",
    "copyX = np.transpose(X)\n",
    "EstimSigma = np.cov(copyX)\n",
    "EstimTheta =  np.linalg.inv(EstimSigma)\n",
    "print(\"This is the sample covariance matrix is  \\n\", EstimSigma)\n",
    "print(\"This is the estimated precision matrix is  \\n\", EstimTheta)"
   ]
  },
  {
   "cell_type": "code",
   "execution_count": 37,
   "id": "23308266-2338-4d3d-be53-25b1815d479d",
   "metadata": {},
   "outputs": [],
   "source": [
    "from sklearn.covariance import EmpiricalCovariance"
   ]
  },
  {
   "cell_type": "code",
   "execution_count": null,
   "id": "e4d78067-2913-434e-9b21-bee12dc349aa",
   "metadata": {},
   "outputs": [],
   "source": []
  }
 ],
 "metadata": {
  "kernelspec": {
   "display_name": "Python 3 (Spyder)",
   "language": "python3",
   "name": "python3"
  },
  "language_info": {
   "codemirror_mode": {
    "name": "ipython",
    "version": 3
   },
   "file_extension": ".py",
   "mimetype": "text/x-python",
   "name": "python",
   "nbconvert_exporter": "python",
   "pygments_lexer": "ipython3",
   "version": "3.13.5"
  }
 },
 "nbformat": 4,
 "nbformat_minor": 5
}
