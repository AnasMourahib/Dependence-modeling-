{
 "cells": [
  {
   "cell_type": "code",
   "execution_count": 2,
   "id": "90f6d69a-420e-4740-adb2-cf64d6675c7f",
   "metadata": {},
   "outputs": [],
   "source": [
    "import pandas as pd\n",
    "import numpy as np "
   ]
  },
  {
   "cell_type": "markdown",
   "id": "ac8593d4-88f4-4829-a019-799d77e3e651",
   "metadata": {},
   "source": [
    "Consider the square cyclic graph 1--2--3--4--1. A precision matrix that satisfies this structure is given by"
   ]
  },
  {
   "cell_type": "code",
   "execution_count": 29,
   "id": "6473e44c-f702-49fa-9047-0be0ca46677f",
   "metadata": {},
   "outputs": [
    {
     "name": "stdout",
     "output_type": "stream",
     "text": [
      "This is the true precision matrix  \n",
      " [[10.   0.5  0.   0.5]\n",
      " [ 0.5 10.   0.5  0. ]\n",
      " [ 0.   0.5 10.   0.5]\n",
      " [ 0.5  0.   0.5 10. ]]\n"
     ]
    }
   ],
   "source": [
    "d = 4\n",
    "Theta = np.matrix([\n",
    "[10 , 0.5  , 0 , 0.5],\n",
    "[0.5 , 10 , 0.5 , 0 ],\n",
    "[0 , 0.5 , 10 , 0.5],\n",
    "[0.5 , 0 , 0.5 , 10]\n",
    "])\n",
    "\n",
    "print(\"This is the true precision matrix  \\n\", Theta)"
   ]
  },
  {
   "cell_type": "code",
   "execution_count": 30,
   "id": "d96d1887-0b23-4ec4-90f7-8eccb7da4344",
   "metadata": {},
   "outputs": [
    {
     "name": "stdout",
     "output_type": "stream",
     "text": [
      "This is the true covariance matrix  \n",
      " [[10.   0.5  0.   0.5]\n",
      " [ 0.5 10.   0.5  0. ]\n",
      " [ 0.   0.5 10.   0.5]\n",
      " [ 0.5  0.   0.5 10. ]]\n"
     ]
    }
   ],
   "source": [
    "Sigma = np.linalg.inv(Theta) \n",
    "print(\"This is the true covariance matrix  \\n\", Sigma)"
   ]
  },
  {
   "cell_type": "markdown",
   "id": "504fbcea-5523-4898-8059-5e10c2a28657",
   "metadata": {},
   "source": [
    "We first generate a sample of size $N=1000$ from a centered multivariate Guassian distribution with covariance matrix $\\Sigma$"
   ]
  },
  {
   "cell_type": "code",
   "execution_count": 35,
   "id": "282b1a57-661e-4bd0-870c-927c22c8d12e",
   "metadata": {},
   "outputs": [
    {
     "name": "stdout",
     "output_type": "stream",
     "text": [
      "[[-0.52441592 -0.05877654  0.03078628 ... -0.15875373  0.34668752\n",
      "   0.24481908]\n",
      " [ 0.21657706  0.14533191  0.46972122 ... -0.43087671 -0.07993995\n",
      "  -0.10462946]\n",
      " [ 0.14771453  0.49027769 -0.27289917 ... -0.41131446 -0.05042665\n",
      "   0.24492077]\n",
      " [ 0.16309342  0.49179676  0.20675628 ... -0.19778069 -0.08560613\n",
      "   0.5211206 ]]\n"
     ]
    },
    {
     "data": {
      "text/plain": [
       "(4, 10000)"
      ]
     },
     "execution_count": 35,
     "metadata": {},
     "output_type": "execute_result"
    }
   ],
   "source": [
    "N = 10000\n",
    "d = 4\n",
    "mean = np.zeros(4)\n",
    "X = np.random.multivariate_normal(mean ,Sigma , N)\n",
    "X = np.transpose(X)\n",
    "print(X)\n",
    "####To calculate the covariance matrix using np.cov, we need to reshape X into a matrix where each row represnets a variable and each column a single observation\n",
    "X.shape"
   ]
  },
  {
   "cell_type": "code",
   "execution_count": 36,
   "id": "ef7381bc-d2f2-47f6-abba-c9ec0d61f6a3",
   "metadata": {},
   "outputs": [
    {
     "name": "stdout",
     "output_type": "stream",
     "text": [
      "This is the sample covariance matrix is  \n",
      " [[ 0.09941725 -0.00470907  0.00085346 -0.00690352]\n",
      " [-0.00470907  0.09856747 -0.0069519   0.00084826]\n",
      " [ 0.00085346 -0.0069519   0.10262244 -0.00479107]\n",
      " [-0.00690352  0.00084826 -0.00479107  0.10122533]]\n",
      "This is the estimated precision matrix is  \n",
      " [[10.12898866  0.47660502 -0.01993087  0.6858553 ]\n",
      " [ 0.47660502 10.21674883  0.68718311 -0.02058601]\n",
      " [-0.01993087  0.68718311  9.81252525  0.45731635]\n",
      " [ 0.6858553  -0.02058601  0.45731635  9.94754305]]\n"
     ]
    }
   ],
   "source": [
    "EstimSigma = np.cov(X)\n",
    "EstimTheta =  np.linalg.inv(EstimSigma)\n",
    "print(\"This is the sample covariance matrix is  \\n\", EstimSigma)\n",
    "print(\"This is the estimated precision matrix is  \\n\", EstimTheta)"
   ]
  },
  {
   "cell_type": "code",
   "execution_count": null,
   "id": "ee01e985-81be-4053-a67a-be083ea80551",
   "metadata": {},
   "outputs": [],
   "source": []
  },
  {
   "cell_type": "code",
   "execution_count": null,
   "id": "4eea44c7-13c0-4763-ae42-5028c492fab8",
   "metadata": {},
   "outputs": [],
   "source": []
  }
 ],
 "metadata": {
  "kernelspec": {
   "display_name": "Python 3 (Spyder)",
   "language": "python3",
   "name": "python3"
  },
  "language_info": {
   "codemirror_mode": {
    "name": "ipython",
    "version": 3
   },
   "file_extension": ".py",
   "mimetype": "text/x-python",
   "name": "python",
   "nbconvert_exporter": "python",
   "pygments_lexer": "ipython3",
   "version": "3.13.5"
  }
 },
 "nbformat": 4,
 "nbformat_minor": 5
}
