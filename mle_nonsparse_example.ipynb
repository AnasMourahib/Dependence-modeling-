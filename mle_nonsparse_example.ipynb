{
 "cells": [
  {
   "cell_type": "code",
   "execution_count": 32,
   "id": "90f6d69a-420e-4740-adb2-cf64d6675c7f",
   "metadata": {},
   "outputs": [],
   "source": [
    "import pandas as pd\n",
    "import numpy as np \n",
    "import scipy.optimize as optimize\n",
    "import random"
   ]
  },
  {
   "cell_type": "markdown",
   "id": "ac8593d4-88f4-4829-a019-799d77e3e651",
   "metadata": {},
   "source": [
    "Consider the square cyclic graph 1--2--3--4--1. A precision matrix that satisfies this structure is given by"
   ]
  },
  {
   "cell_type": "code",
   "execution_count": 6,
   "id": "6473e44c-f702-49fa-9047-0be0ca46677f",
   "metadata": {},
   "outputs": [
    {
     "name": "stdout",
     "output_type": "stream",
     "text": [
      "This is the true precision matrix  \n",
      " [[10.   0.5  0.   0.5]\n",
      " [ 0.5 10.   0.5  0. ]\n",
      " [ 0.   0.5 10.   0.5]\n",
      " [ 0.5  0.   0.5 10. ]]\n"
     ]
    }
   ],
   "source": [
    "d = 4\n",
    "Theta = np.matrix([\n",
    "[10 , 0.5  , 0 , 0.5],\n",
    "[0.5 , 10 , 0.5 , 0 ],\n",
    "[0 , 0.5 , 10 , 0.5],\n",
    "[0.5 , 0 , 0.5 , 10]\n",
    "])\n",
    "\n",
    "print(\"This is the true precision matrix  \\n\", Theta)"
   ]
  },
  {
   "cell_type": "code",
   "execution_count": 7,
   "id": "d96d1887-0b23-4ec4-90f7-8eccb7da4344",
   "metadata": {},
   "outputs": [
    {
     "name": "stdout",
     "output_type": "stream",
     "text": [
      "This is the true covariance matrix  \n",
      " [[ 0.10050505 -0.00505051  0.00050505 -0.00505051]\n",
      " [-0.00505051  0.10050505 -0.00505051  0.00050505]\n",
      " [ 0.00050505 -0.00505051  0.10050505 -0.00505051]\n",
      " [-0.00505051  0.00050505 -0.00505051  0.10050505]]\n"
     ]
    }
   ],
   "source": [
    "Sigma = np.linalg.inv(Theta) \n",
    "print(\"This is the true covariance matrix  \\n\", Sigma)"
   ]
  },
  {
   "cell_type": "markdown",
   "id": "504fbcea-5523-4898-8059-5e10c2a28657",
   "metadata": {},
   "source": [
    "We first generate a sample of size $N=10000$ from a centered multivariate Guassian distribution with covariance matrix $\\Sigma$"
   ]
  },
  {
   "cell_type": "code",
   "execution_count": 33,
   "id": "282b1a57-661e-4bd0-870c-927c22c8d12e",
   "metadata": {},
   "outputs": [
    {
     "name": "stdout",
     "output_type": "stream",
     "text": [
      "[[ 0.19921104 -0.11389174  0.0166442  ... -0.62348363 -0.00401689\n",
      "   0.06067879]\n",
      " [-0.1044601   0.04011675 -0.19153983 ... -0.19549717 -0.01412764\n",
      "   0.0042622 ]\n",
      " [-0.06110993 -0.35955168 -0.45055938 ... -0.02801325  0.24561426\n",
      "   0.65389423]\n",
      " [-0.02231058 -0.37023604 -0.28779683 ... -0.07999077 -0.23346983\n",
      "  -0.26907044]]\n"
     ]
    },
    {
     "data": {
      "text/plain": [
       "(4, 10000)"
      ]
     },
     "execution_count": 33,
     "metadata": {},
     "output_type": "execute_result"
    }
   ],
   "source": [
    "N = 10000\n",
    "d = 4\n",
    "mean = np.zeros(4)\n",
    "random.seed(7)\n",
    "X = np.random.multivariate_normal(mean ,Sigma , N)\n",
    "X = np.transpose(X)\n",
    "print(X)\n",
    "####To calculate the covariance matrix using np.cov, we need to reshape X into a matrix where each row represnets a variable and each column a single observation\n",
    "X.shape"
   ]
  },
  {
   "cell_type": "code",
   "execution_count": 34,
   "id": "ef7381bc-d2f2-47f6-abba-c9ec0d61f6a3",
   "metadata": {},
   "outputs": [
    {
     "name": "stdout",
     "output_type": "stream",
     "text": [
      "This is the sample covariance matrix is  \n",
      " [[ 0.10179401 -0.00583533  0.00164423 -0.00641216]\n",
      " [-0.00583533  0.0984924  -0.00510509  0.00167606]\n",
      " [ 0.00164423 -0.00510509  0.10044852 -0.00552955]\n",
      " [-0.00641216  0.00167606 -0.00552955  0.09862521]]\n",
      "This is the estimated precision matrix is  \n",
      " [[ 9.89763673  0.57060688 -0.09842688  0.62828333]\n",
      " [ 0.57060688 10.21483166  0.50384854 -0.10824649]\n",
      " [-0.09842688  0.50384854 10.01264603  0.54641051]\n",
      " [ 0.62828333 -0.10824649  0.54641051 10.21271865]]\n"
     ]
    }
   ],
   "source": [
    "EstimSigma = np.cov(X)\n",
    "EstimTheta =  np.linalg.inv(EstimSigma)\n",
    "print(\"This is the sample covariance matrix is  \\n\", EstimSigma)\n",
    "print(\"This is the estimated precision matrix is  \\n\", EstimTheta)"
   ]
  },
  {
   "cell_type": "markdown",
   "id": "30dadccc-38b9-46f1-b589-3854b35a4f66",
   "metadata": {},
   "source": [
    "We will now compute the maximum likelihood estimator by maximizing the equivalent version of the loglikelihood function defined on Chapter 2"
   ]
  },
  {
   "cell_type": "code",
   "execution_count": 35,
   "id": "4eea44c7-13c0-4763-ae42-5028c492fab8",
   "metadata": {},
   "outputs": [
    {
     "name": "stdout",
     "output_type": "stream",
     "text": [
      "The maximum likelihood estimator of the precision matrix is given by \n",
      " [[ 9.89765428  0.57055059 -0.09883476  0.62855623]\n",
      " [ 0.57055059 10.21483166  0.50408325 -0.10828212]\n",
      " [-0.09883476  0.50408325 10.01261497  0.54637523]\n",
      " [ 0.62855623 -0.10828212  0.54637523 10.21273779]]\n"
     ]
    }
   ],
   "source": [
    "import scipy.optimize as optimize\n",
    "def construct_symmetric_matrix(Theta):\n",
    "    Theta_matrix = np.zeros((4 , 4))\n",
    "    upper_idx = np.triu_indices(4)\n",
    "    Theta_matrix[upper_idx] = Theta\n",
    "    Theta_matrix = Theta_matrix + Theta_matrix.T - np.diag(np.diag(Theta_matrix)) \n",
    "    return(Theta_matrix)\n",
    "\n",
    "def log_likelihood(Theta) :\n",
    "    Theta_matrix  = construct_symmetric_matrix(Theta)\n",
    "    det_Theta = np.linalg.det(Theta_matrix) \n",
    "    if det_Theta <= 0 :\n",
    "        return -np.inf\n",
    "    product_STheta = np.matmul(EstimSigma, Theta_matrix)\n",
    "    trace_STheta =  product_STheta.trace()\n",
    "    return(np.log(det_Theta) - trace_STheta)\n",
    "\n",
    "initial_guess = [4 , 1 , 0.5 , 0.2 , 3 , 0.3 , 0.1 , 2 , 0.4 , 1.5]\n",
    "random.seed(7)\n",
    "result = optimize.minimize(lambda x: -log_likelihood(x) , np.array(initial_guess) ).x\n",
    "mle =  construct_symmetric_matrix(result)\n",
    "print(\"The maximum likelihood estimator of the precision matrix is given by \\n\", mle)"
   ]
  }
 ],
 "metadata": {
  "kernelspec": {
   "display_name": "Python 3 (Spyder)",
   "language": "python3",
   "name": "python3"
  },
  "language_info": {
   "codemirror_mode": {
    "name": "ipython",
    "version": 3
   },
   "file_extension": ".py",
   "mimetype": "text/x-python",
   "name": "python",
   "nbconvert_exporter": "python",
   "pygments_lexer": "ipython3",
   "version": "3.13.5"
  }
 },
 "nbformat": 4,
 "nbformat_minor": 5
}
